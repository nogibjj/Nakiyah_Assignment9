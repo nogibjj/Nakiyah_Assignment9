{
 "cells": [
  {
   "cell_type": "markdown",
   "metadata": {
    "colab_type": "text",
    "id": "view-in-github"
   },
   "source": [
    "<a href=\"https://colab.research.google.com/github/Nakiyah24/Nakiyah_Assignment9/blob/main/Nakiyah_Assignment9.ipynb\" target=\"_parent\"><img src=\"https://colab.research.google.com/assets/colab-badge.svg\" alt=\"Open In Colab\"/></a>"
   ]
  },
  {
   "cell_type": "code",
   "execution_count": 38,
   "metadata": {
    "id": "QVMsJcbUbFS3"
   },
   "outputs": [],
   "source": [
    "import pandas as pd\n",
    "import matplotlib.pyplot as plt\n",
    "from fpdf import FPDF"
   ]
  },
  {
   "cell_type": "code",
   "execution_count": 39,
   "metadata": {
    "id": "Ap6tQuSqfq_k"
   },
   "outputs": [],
   "source": [
    "# Function reading the csv file\n",
    "def readData(df):\n",
    "    return pd.read_csv(df)"
   ]
  },
  {
   "cell_type": "code",
   "execution_count": 40,
   "metadata": {
    "id": "QR-pZ28rfr-Q"
   },
   "outputs": [],
   "source": [
    "# Function cleaning the data\n",
    "def cleanData(df, Columns, Duplicate):\n",
    "    dfCleaned = df.drop_duplicates(subset=Duplicate, keep=\"first\")\n",
    "    dfCleaned = dfCleaned[Columns]\n",
    "    return dfCleaned"
   ]
  },
  {
   "cell_type": "code",
   "execution_count": 41,
   "metadata": {
    "id": "T6QZryOAfvBO"
   },
   "outputs": [],
   "source": [
    "# Creating Summary Statistics\n",
    "def summaryStatistics(df):\n",
    "    SumStats = df.describe(exclude=[\"O\"]).reset_index()\n",
    "    Median = df.median(numeric_only=True)\n",
    "    Median_df = pd.DataFrame(Median).T  # Transpose to match the structure of SumStats\n",
    "    SumStats = pd.concat([SumStats, Median_df], ignore_index=True)\n",
    "    SumStats.fillna(\"median\", inplace=True)\n",
    "    SumStats.set_index(\"index\", inplace=True)\n",
    "    return SumStats"
   ]
  },
  {
   "cell_type": "code",
   "execution_count": 42,
   "metadata": {
    "id": "wYBQiJq8fv97"
   },
   "outputs": [],
   "source": [
    "# Creating a Stacked Plot\n",
    "def stackPlot(df, xVal, StackVal):\n",
    "    PivotData = df.groupby([xVal, StackVal]).size().unstack().fillna(0)\n",
    "    PivotData.plot(kind=\"bar\", stacked=True, figsize=(12, 8), colormap=\"tab20\")\n",
    "    plt.title(f\"Distribution of {StackVal} by {xVal}\")\n",
    "    plt.xlabel(f\"{xVal}\")\n",
    "    plt.ylabel(\"Count\")\n",
    "    plt.legend(title=f\"{StackVal}\", bbox_to_anchor=(1.05, 1), loc=\"upper left\")\n",
    "    plt.tight_layout()\n",
    "\n",
    "    # Save the plot to a file\n",
    "    plt.savefig(\"stack_plot.png\")\n",
    "    plt.close()\n",
    "    return \"stack_plot.png\""
   ]
  },
  {
   "cell_type": "code",
   "execution_count": 43,
   "metadata": {
    "id": "6XEp3aQCfzIr"
   },
   "outputs": [],
   "source": [
    "# Creating a Box Plot\n",
    "def barPlot(df, xVal, yVal, Segregate):\n",
    "    GroupingData = df.groupby([yVal, Segregate])[xVal].mean().unstack()\n",
    "    GroupingData.plot(kind=\"barh\", color=[\"#FFD0EC\", \"#E59BE9\"])\n",
    "    plt.xlabel(f\"Average {xVal}\")\n",
    "    plt.ylabel(f\"{yVal}\")\n",
    "    plt.title(f\"Average {xVal} by {yVal} and {Segregate}\")\n",
    "    plt.legend(title=\"Gender\", bbox_to_anchor=(1.05, 1), loc=\"upper left\")\n",
    "    plt.tight_layout()\n",
    "\n",
    "    # Save the plot to a file\n",
    "    plt.savefig(\"bar_plot.png\")\n",
    "    plt.close()\n",
    "    return \"bar_plot.png\""
   ]
  },
  {
   "cell_type": "code",
   "execution_count": 44,
   "metadata": {
    "id": "6veT3Tapf1sk"
   },
   "outputs": [],
   "source": [
    "def writeToPDF(Summary, graph1, graph2):\n",
    "\n",
    "    # Writing data into PDF\n",
    "    pdf = FPDF(format=\"letter\")\n",
    "    pdf.add_page()\n",
    "    pdf.set_font(\"Times\", size=12)\n",
    "\n",
    "    # Add Title\n",
    "    pdf.set_font(\"Times\", \"B\", 14)\n",
    "    pdf.cell(200, 10, txt=\"Summary Statistics\", ln=True, align=\"C\")\n",
    "    pdf.ln(10)\n",
    "\n",
    "    # Add Summary Statistics as a Table\n",
    "    page_width = 190  # Approximate width of the PDF page after margins\n",
    "    col_width = page_width / (\n",
    "        len(Summary.columns) + 1\n",
    "    )  # Divide width equally among all columns\n",
    "\n",
    "    # Add headers\n",
    "    pdf.set_font(\"Times\", \"B\", 12)\n",
    "    pdf.cell(col_width, 10, \"Metric\", border=1)\n",
    "    for col in Summary.columns:\n",
    "        pdf.cell(col_width, 10, col, border=1)\n",
    "    pdf.ln()\n",
    "\n",
    "    # Add rows for each metric\n",
    "    pdf.set_font(\"Times\", size=12)\n",
    "    for i, row in Summary.iterrows():\n",
    "        pdf.cell(col_width, 10, str(i), border=1)\n",
    "        for col in Summary.columns:\n",
    "            pdf.cell(col_width, 10, str(row[col]), border=1)\n",
    "        pdf.ln()\n",
    "\n",
    "    # Add Plots to PDF\n",
    "    # Add Stacked Plot to PDF\n",
    "    pdf.add_page()\n",
    "    pdf.ln(10)\n",
    "    pdf.set_font(\"Times\", \"B\", 14)\n",
    "    pdf.cell(200, 10, txt=\"Stacked Plot\", ln=True, align=\"C\")\n",
    "    pdf.ln(10)\n",
    "    pdf.image(graph1, x=10, y=pdf.get_y(), w=180)\n",
    "    pdf.ln(10)\n",
    "\n",
    "    # Add Bar Plot to PDF\n",
    "    pdf.add_page()\n",
    "    pdf.set_font(\"Times\", \"B\", 14)\n",
    "    pdf.cell(200, 10, txt=\"Bar Plot\", ln=True, align=\"C\")\n",
    "    pdf.ln(10)\n",
    "    pdf.image(graph2, x=10, y=pdf.get_y(), w=180)\n",
    "\n",
    "    # Save PDF\n",
    "    pdf.output(\"summary_statistics_report.pdf\")\n",
    "    return \"PDF file created\""
   ]
  },
  {
   "cell_type": "code",
   "execution_count": 45,
   "metadata": {
    "id": "7VyggRYMf3hZ"
   },
   "outputs": [],
   "source": [
    "# Initializing Variables\n",
    "Dataset = \"Sleep_health_and_lifestyle_dataset.csv\"\n",
    "RequiredColumns = [\"Gender\", \"Occupation\", \"Sleep Duration\", \"Quality of Sleep\"]\n",
    "\n",
    "DuplicateValues = \"Person ID\"\n",
    "Gender = \"Gender\"\n",
    "Occupation = \"Occupation\"\n",
    "SleepHours = \"Sleep Duration\"\n",
    "SleepQuality = \"Quality of Sleep\""
   ]
  },
  {
   "cell_type": "code",
   "execution_count": 46,
   "metadata": {
    "colab": {
     "base_uri": "https://localhost:8080/"
    },
    "id": "AVoUmf5ff4T1",
    "outputId": "7cea2404-7ed6-4294-bb12-8cdeb8030cc7"
   },
   "outputs": [
    {
     "name": "stdout",
     "output_type": "stream",
     "text": [
      "Everything works great!\n"
     ]
    }
   ],
   "source": [
    "# Calling Functions\n",
    "Data = readData(Dataset)\n",
    "CleanData = cleanData(Data, RequiredColumns, DuplicateValues)\n",
    "SummaryStatistics = summaryStatistics(CleanData)\n",
    "StackPlot = stackPlot(CleanData, SleepHours, Occupation)\n",
    "BarPlot = barPlot(CleanData, SleepQuality, Occupation, Gender)\n",
    "Output = writeToPDF(SummaryStatistics, StackPlot, BarPlot)\n",
    "\n",
    "print(\"Everything works great!\")"
   ]
  }
 ],
 "metadata": {
  "colab": {
   "authorship_tag": "ABX9TyNLzuvwNCZFH+VY5dXtwJhw",
   "include_colab_link": true,
   "provenance": []
  },
  "kernelspec": {
   "display_name": "Python 3",
   "name": "python3"
  },
  "language_info": {
   "codemirror_mode": {
    "name": "ipython",
    "version": 3
   },
   "file_extension": ".py",
   "mimetype": "text/x-python",
   "name": "python",
   "nbconvert_exporter": "python",
   "pygments_lexer": "ipython3",
   "version": "3.12.7"
  }
 },
 "nbformat": 4,
 "nbformat_minor": 0
}
